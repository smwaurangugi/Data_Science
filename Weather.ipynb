{
  "metadata": {
    "kernelspec": {
      "name": "python",
      "display_name": "Python (Pyodide)",
      "language": "python"
    },
    "language_info": {
      "codemirror_mode": {
        "name": "python",
        "version": 3
      },
      "file_extension": ".py",
      "mimetype": "text/x-python",
      "name": "python",
      "nbconvert_exporter": "python",
      "pygments_lexer": "ipython3",
      "version": "3.8"
    }
  },
  "nbformat_minor": 4,
  "nbformat": 4,
  "cells": [
    {
      "cell_type": "raw",
      "source": "%pip install pandas\n",
      "metadata": {}
    },
    {
      "cell_type": "code",
      "source": "%pip install Pyarrow ",
      "metadata": {
        "trusted": true
      },
      "outputs": [],
      "execution_count": null
    },
    {
      "cell_type": "code",
      "source": "import pandas as pd\nimport numpy as np",
      "metadata": {
        "trusted": true
      },
      "outputs": [],
      "execution_count": 10
    },
    {
      "cell_type": "code",
      "source": "data = pd.read_csv(\"Weather.csv\")",
      "metadata": {
        "trusted": true
      },
      "outputs": [],
      "execution_count": 11
    },
    {
      "cell_type": "code",
      "source": "print(data.head)",
      "metadata": {
        "trusted": true
      },
      "outputs": [
        {
          "name": "stdout",
          "text": "<bound method NDFrame.head of              Date/Time  Temp_C  Dew Point Temp_C  Rel Hum_%  Wind Speed_km/h  \\\n0        1/1/2012 0:00    -1.8              -3.9         86                4   \n1        1/1/2012 1:00    -1.8              -3.7         87                4   \n2        1/1/2012 2:00    -1.8              -3.4         89                7   \n3        1/1/2012 3:00    -1.5              -3.2         88                6   \n4        1/1/2012 4:00    -1.5              -3.3         88                7   \n...                ...     ...               ...        ...              ...   \n8779  12/31/2012 19:00     0.1              -2.7         81               30   \n8780  12/31/2012 20:00     0.2              -2.4         83               24   \n8781  12/31/2012 21:00    -0.5              -1.5         93               28   \n8782  12/31/2012 22:00    -0.2              -1.8         89               28   \n8783  12/31/2012 23:00     0.0              -2.1         86               30   \n\n      Visibility_km  Press_kPa               Weather  \n0               8.0     101.24                   Fog  \n1               8.0     101.24                   Fog  \n2               4.0     101.26  Freezing Drizzle,Fog  \n3               4.0     101.27  Freezing Drizzle,Fog  \n4               4.8     101.23                   Fog  \n...             ...        ...                   ...  \n8779            9.7     100.13                  Snow  \n8780            9.7     100.03                  Snow  \n8781            4.8      99.95                  Snow  \n8782            9.7      99.91                  Snow  \n8783           11.3      99.89                  Snow  \n\n[8784 rows x 8 columns]>\n",
          "output_type": "stream"
        }
      ],
      "execution_count": 12
    },
    {
      "cell_type": "code",
      "source": "data.head()",
      "metadata": {
        "trusted": true
      },
      "outputs": [
        {
          "execution_count": 13,
          "output_type": "execute_result",
          "data": {
            "text/plain": "       Date/Time  Temp_C  Dew Point Temp_C  Rel Hum_%  Wind Speed_km/h  \\\n0  1/1/2012 0:00    -1.8              -3.9         86                4   \n1  1/1/2012 1:00    -1.8              -3.7         87                4   \n2  1/1/2012 2:00    -1.8              -3.4         89                7   \n3  1/1/2012 3:00    -1.5              -3.2         88                6   \n4  1/1/2012 4:00    -1.5              -3.3         88                7   \n\n   Visibility_km  Press_kPa               Weather  \n0            8.0     101.24                   Fog  \n1            8.0     101.24                   Fog  \n2            4.0     101.26  Freezing Drizzle,Fog  \n3            4.0     101.27  Freezing Drizzle,Fog  \n4            4.8     101.23                   Fog  ",
            "text/html": "<div>\n<style scoped>\n    .dataframe tbody tr th:only-of-type {\n        vertical-align: middle;\n    }\n\n    .dataframe tbody tr th {\n        vertical-align: top;\n    }\n\n    .dataframe thead th {\n        text-align: right;\n    }\n</style>\n<table border=\"1\" class=\"dataframe\">\n  <thead>\n    <tr style=\"text-align: right;\">\n      <th></th>\n      <th>Date/Time</th>\n      <th>Temp_C</th>\n      <th>Dew Point Temp_C</th>\n      <th>Rel Hum_%</th>\n      <th>Wind Speed_km/h</th>\n      <th>Visibility_km</th>\n      <th>Press_kPa</th>\n      <th>Weather</th>\n    </tr>\n  </thead>\n  <tbody>\n    <tr>\n      <th>0</th>\n      <td>1/1/2012 0:00</td>\n      <td>-1.8</td>\n      <td>-3.9</td>\n      <td>86</td>\n      <td>4</td>\n      <td>8.0</td>\n      <td>101.24</td>\n      <td>Fog</td>\n    </tr>\n    <tr>\n      <th>1</th>\n      <td>1/1/2012 1:00</td>\n      <td>-1.8</td>\n      <td>-3.7</td>\n      <td>87</td>\n      <td>4</td>\n      <td>8.0</td>\n      <td>101.24</td>\n      <td>Fog</td>\n    </tr>\n    <tr>\n      <th>2</th>\n      <td>1/1/2012 2:00</td>\n      <td>-1.8</td>\n      <td>-3.4</td>\n      <td>89</td>\n      <td>7</td>\n      <td>4.0</td>\n      <td>101.26</td>\n      <td>Freezing Drizzle,Fog</td>\n    </tr>\n    <tr>\n      <th>3</th>\n      <td>1/1/2012 3:00</td>\n      <td>-1.5</td>\n      <td>-3.2</td>\n      <td>88</td>\n      <td>6</td>\n      <td>4.0</td>\n      <td>101.27</td>\n      <td>Freezing Drizzle,Fog</td>\n    </tr>\n    <tr>\n      <th>4</th>\n      <td>1/1/2012 4:00</td>\n      <td>-1.5</td>\n      <td>-3.3</td>\n      <td>88</td>\n      <td>7</td>\n      <td>4.8</td>\n      <td>101.23</td>\n      <td>Fog</td>\n    </tr>\n  </tbody>\n</table>\n</div>"
          },
          "metadata": {}
        }
      ],
      "execution_count": 13
    },
    {
      "cell_type": "code",
      "source": "data.shape",
      "metadata": {
        "trusted": true
      },
      "outputs": [
        {
          "execution_count": 14,
          "output_type": "execute_result",
          "data": {
            "text/plain": "(8784, 8)"
          },
          "metadata": {}
        }
      ],
      "execution_count": 14
    },
    {
      "cell_type": "code",
      "source": "data['Weather'].unique()",
      "metadata": {
        "trusted": true
      },
      "outputs": [
        {
          "execution_count": 19,
          "output_type": "execute_result",
          "data": {
            "text/plain": "array(['Fog', 'Freezing Drizzle,Fog', 'Mostly Cloudy', 'Cloudy', 'Rain',\n       'Rain Showers', 'Mainly Clear', 'Snow Showers', 'Snow', 'Clear',\n       'Freezing Rain,Fog', 'Freezing Rain', 'Freezing Drizzle',\n       'Rain,Snow', 'Moderate Snow', 'Freezing Drizzle,Snow',\n       'Freezing Rain,Snow Grains', 'Snow,Blowing Snow', 'Freezing Fog',\n       'Haze', 'Rain,Fog', 'Drizzle,Fog', 'Drizzle',\n       'Freezing Drizzle,Haze', 'Freezing Rain,Haze', 'Snow,Haze',\n       'Snow,Fog', 'Snow,Ice Pellets', 'Rain,Haze', 'Thunderstorms,Rain',\n       'Thunderstorms,Rain Showers', 'Thunderstorms,Heavy Rain Showers',\n       'Thunderstorms,Rain Showers,Fog', 'Thunderstorms',\n       'Thunderstorms,Rain,Fog',\n       'Thunderstorms,Moderate Rain Showers,Fog', 'Rain Showers,Fog',\n       'Rain Showers,Snow Showers', 'Snow Pellets', 'Rain,Snow,Fog',\n       'Moderate Rain,Fog', 'Freezing Rain,Ice Pellets,Fog',\n       'Drizzle,Ice Pellets,Fog', 'Drizzle,Snow', 'Rain,Ice Pellets',\n       'Drizzle,Snow,Fog', 'Rain,Snow Grains', 'Rain,Snow,Ice Pellets',\n       'Snow Showers,Fog', 'Moderate Snow,Blowing Snow'], dtype=object)"
          },
          "metadata": {}
        }
      ],
      "execution_count": 19
    },
    {
      "cell_type": "code",
      "source": "data[data['Weather'] == 'Clear']",
      "metadata": {
        "trusted": true
      },
      "outputs": [
        {
          "execution_count": 37,
          "output_type": "execute_result",
          "data": {
            "text/plain": "             Date/Time  Temp_C  Dew Point Temp_C  Rel Hum_%  Wind Speed_km/h  \\\n67      1/3/2012 19:00   -16.9             -24.8         50               24   \n114     1/5/2012 18:00    -7.1             -14.4         56               11   \n115     1/5/2012 19:00    -9.2             -15.4         61                7   \n116     1/5/2012 20:00    -9.8             -15.7         62                9   \n117     1/5/2012 21:00    -9.0             -14.8         63               13   \n...                ...     ...               ...        ...              ...   \n8646   12/26/2012 6:00   -13.4             -14.8         89                4   \n8698  12/28/2012 10:00    -6.1              -8.6         82               19   \n8713   12/29/2012 1:00   -11.9             -13.6         87               11   \n8714   12/29/2012 2:00   -11.8             -13.1         90               13   \n8756  12/30/2012 20:00   -13.8             -16.5         80               24   \n\n      Visibility_km  Press_kPa Weather  \n67             25.0     101.74   Clear  \n114            25.0     100.71   Clear  \n115            25.0     100.80   Clear  \n116            25.0     100.83   Clear  \n117            25.0     100.83   Clear  \n...             ...        ...     ...  \n8646           25.0     102.47   Clear  \n8698           24.1     101.27   Clear  \n8713           25.0     101.31   Clear  \n8714           25.0     101.33   Clear  \n8756           25.0     101.52   Clear  \n\n[1326 rows x 8 columns]",
            "text/html": "<div>\n<style scoped>\n    .dataframe tbody tr th:only-of-type {\n        vertical-align: middle;\n    }\n\n    .dataframe tbody tr th {\n        vertical-align: top;\n    }\n\n    .dataframe thead th {\n        text-align: right;\n    }\n</style>\n<table border=\"1\" class=\"dataframe\">\n  <thead>\n    <tr style=\"text-align: right;\">\n      <th></th>\n      <th>Date/Time</th>\n      <th>Temp_C</th>\n      <th>Dew Point Temp_C</th>\n      <th>Rel Hum_%</th>\n      <th>Wind Speed_km/h</th>\n      <th>Visibility_km</th>\n      <th>Press_kPa</th>\n      <th>Weather</th>\n    </tr>\n  </thead>\n  <tbody>\n    <tr>\n      <th>67</th>\n      <td>1/3/2012 19:00</td>\n      <td>-16.9</td>\n      <td>-24.8</td>\n      <td>50</td>\n      <td>24</td>\n      <td>25.0</td>\n      <td>101.74</td>\n      <td>Clear</td>\n    </tr>\n    <tr>\n      <th>114</th>\n      <td>1/5/2012 18:00</td>\n      <td>-7.1</td>\n      <td>-14.4</td>\n      <td>56</td>\n      <td>11</td>\n      <td>25.0</td>\n      <td>100.71</td>\n      <td>Clear</td>\n    </tr>\n    <tr>\n      <th>115</th>\n      <td>1/5/2012 19:00</td>\n      <td>-9.2</td>\n      <td>-15.4</td>\n      <td>61</td>\n      <td>7</td>\n      <td>25.0</td>\n      <td>100.80</td>\n      <td>Clear</td>\n    </tr>\n    <tr>\n      <th>116</th>\n      <td>1/5/2012 20:00</td>\n      <td>-9.8</td>\n      <td>-15.7</td>\n      <td>62</td>\n      <td>9</td>\n      <td>25.0</td>\n      <td>100.83</td>\n      <td>Clear</td>\n    </tr>\n    <tr>\n      <th>117</th>\n      <td>1/5/2012 21:00</td>\n      <td>-9.0</td>\n      <td>-14.8</td>\n      <td>63</td>\n      <td>13</td>\n      <td>25.0</td>\n      <td>100.83</td>\n      <td>Clear</td>\n    </tr>\n    <tr>\n      <th>...</th>\n      <td>...</td>\n      <td>...</td>\n      <td>...</td>\n      <td>...</td>\n      <td>...</td>\n      <td>...</td>\n      <td>...</td>\n      <td>...</td>\n    </tr>\n    <tr>\n      <th>8646</th>\n      <td>12/26/2012 6:00</td>\n      <td>-13.4</td>\n      <td>-14.8</td>\n      <td>89</td>\n      <td>4</td>\n      <td>25.0</td>\n      <td>102.47</td>\n      <td>Clear</td>\n    </tr>\n    <tr>\n      <th>8698</th>\n      <td>12/28/2012 10:00</td>\n      <td>-6.1</td>\n      <td>-8.6</td>\n      <td>82</td>\n      <td>19</td>\n      <td>24.1</td>\n      <td>101.27</td>\n      <td>Clear</td>\n    </tr>\n    <tr>\n      <th>8713</th>\n      <td>12/29/2012 1:00</td>\n      <td>-11.9</td>\n      <td>-13.6</td>\n      <td>87</td>\n      <td>11</td>\n      <td>25.0</td>\n      <td>101.31</td>\n      <td>Clear</td>\n    </tr>\n    <tr>\n      <th>8714</th>\n      <td>12/29/2012 2:00</td>\n      <td>-11.8</td>\n      <td>-13.1</td>\n      <td>90</td>\n      <td>13</td>\n      <td>25.0</td>\n      <td>101.33</td>\n      <td>Clear</td>\n    </tr>\n    <tr>\n      <th>8756</th>\n      <td>12/30/2012 20:00</td>\n      <td>-13.8</td>\n      <td>-16.5</td>\n      <td>80</td>\n      <td>24</td>\n      <td>25.0</td>\n      <td>101.52</td>\n      <td>Clear</td>\n    </tr>\n  </tbody>\n</table>\n<p>1326 rows × 8 columns</p>\n</div>"
          },
          "metadata": {}
        }
      ],
      "execution_count": 37
    },
    {
      "cell_type": "code",
      "source": "data[data['Wind Speed_km/h'] == 4]",
      "metadata": {
        "trusted": true
      },
      "outputs": [
        {
          "execution_count": 35,
          "output_type": "execute_result",
          "data": {
            "text/plain": "             Date/Time  Temp_C  Dew Point Temp_C  Rel Hum_%  Wind Speed_km/h  \\\n0        1/1/2012 0:00    -1.8              -3.9         86                4   \n1        1/1/2012 1:00    -1.8              -3.7         87                4   \n96       1/5/2012 0:00    -8.8             -11.7         79                4   \n101      1/5/2012 5:00    -7.0              -9.5         82                4   \n146      1/7/2012 2:00    -8.1             -11.1         79                4   \n...                ...     ...               ...        ...              ...   \n8768   12/31/2012 8:00    -8.6             -10.3         87                4   \n8769   12/31/2012 9:00    -8.1              -9.6         89                4   \n8770  12/31/2012 10:00    -7.4              -8.9         89                4   \n8772  12/31/2012 12:00    -5.8              -7.5         88                4   \n8773  12/31/2012 13:00    -4.6              -6.6         86                4   \n\n      Visibility_km  Press_kPa       Weather  \n0               8.0     101.24           Fog  \n1               8.0     101.24           Fog  \n96              9.7     100.32          Snow  \n101             4.0     100.19          Snow  \n146            19.3     100.15        Cloudy  \n...             ...        ...           ...  \n8768            3.2     101.14  Snow Showers  \n8769            2.4     101.09          Snow  \n8770            6.4     101.05      Snow,Fog  \n8772           12.9     100.78          Snow  \n8773           12.9     100.63          Snow  \n\n[474 rows x 8 columns]",
            "text/html": "<div>\n<style scoped>\n    .dataframe tbody tr th:only-of-type {\n        vertical-align: middle;\n    }\n\n    .dataframe tbody tr th {\n        vertical-align: top;\n    }\n\n    .dataframe thead th {\n        text-align: right;\n    }\n</style>\n<table border=\"1\" class=\"dataframe\">\n  <thead>\n    <tr style=\"text-align: right;\">\n      <th></th>\n      <th>Date/Time</th>\n      <th>Temp_C</th>\n      <th>Dew Point Temp_C</th>\n      <th>Rel Hum_%</th>\n      <th>Wind Speed_km/h</th>\n      <th>Visibility_km</th>\n      <th>Press_kPa</th>\n      <th>Weather</th>\n    </tr>\n  </thead>\n  <tbody>\n    <tr>\n      <th>0</th>\n      <td>1/1/2012 0:00</td>\n      <td>-1.8</td>\n      <td>-3.9</td>\n      <td>86</td>\n      <td>4</td>\n      <td>8.0</td>\n      <td>101.24</td>\n      <td>Fog</td>\n    </tr>\n    <tr>\n      <th>1</th>\n      <td>1/1/2012 1:00</td>\n      <td>-1.8</td>\n      <td>-3.7</td>\n      <td>87</td>\n      <td>4</td>\n      <td>8.0</td>\n      <td>101.24</td>\n      <td>Fog</td>\n    </tr>\n    <tr>\n      <th>96</th>\n      <td>1/5/2012 0:00</td>\n      <td>-8.8</td>\n      <td>-11.7</td>\n      <td>79</td>\n      <td>4</td>\n      <td>9.7</td>\n      <td>100.32</td>\n      <td>Snow</td>\n    </tr>\n    <tr>\n      <th>101</th>\n      <td>1/5/2012 5:00</td>\n      <td>-7.0</td>\n      <td>-9.5</td>\n      <td>82</td>\n      <td>4</td>\n      <td>4.0</td>\n      <td>100.19</td>\n      <td>Snow</td>\n    </tr>\n    <tr>\n      <th>146</th>\n      <td>1/7/2012 2:00</td>\n      <td>-8.1</td>\n      <td>-11.1</td>\n      <td>79</td>\n      <td>4</td>\n      <td>19.3</td>\n      <td>100.15</td>\n      <td>Cloudy</td>\n    </tr>\n    <tr>\n      <th>...</th>\n      <td>...</td>\n      <td>...</td>\n      <td>...</td>\n      <td>...</td>\n      <td>...</td>\n      <td>...</td>\n      <td>...</td>\n      <td>...</td>\n    </tr>\n    <tr>\n      <th>8768</th>\n      <td>12/31/2012 8:00</td>\n      <td>-8.6</td>\n      <td>-10.3</td>\n      <td>87</td>\n      <td>4</td>\n      <td>3.2</td>\n      <td>101.14</td>\n      <td>Snow Showers</td>\n    </tr>\n    <tr>\n      <th>8769</th>\n      <td>12/31/2012 9:00</td>\n      <td>-8.1</td>\n      <td>-9.6</td>\n      <td>89</td>\n      <td>4</td>\n      <td>2.4</td>\n      <td>101.09</td>\n      <td>Snow</td>\n    </tr>\n    <tr>\n      <th>8770</th>\n      <td>12/31/2012 10:00</td>\n      <td>-7.4</td>\n      <td>-8.9</td>\n      <td>89</td>\n      <td>4</td>\n      <td>6.4</td>\n      <td>101.05</td>\n      <td>Snow,Fog</td>\n    </tr>\n    <tr>\n      <th>8772</th>\n      <td>12/31/2012 12:00</td>\n      <td>-5.8</td>\n      <td>-7.5</td>\n      <td>88</td>\n      <td>4</td>\n      <td>12.9</td>\n      <td>100.78</td>\n      <td>Snow</td>\n    </tr>\n    <tr>\n      <th>8773</th>\n      <td>12/31/2012 13:00</td>\n      <td>-4.6</td>\n      <td>-6.6</td>\n      <td>86</td>\n      <td>4</td>\n      <td>12.9</td>\n      <td>100.63</td>\n      <td>Snow</td>\n    </tr>\n  </tbody>\n</table>\n<p>474 rows × 8 columns</p>\n</div>"
          },
          "metadata": {}
        }
      ],
      "execution_count": 35
    },
    {
      "cell_type": "code",
      "source": "data.isnull()",
      "metadata": {
        "trusted": true
      },
      "outputs": [
        {
          "execution_count": 39,
          "output_type": "execute_result",
          "data": {
            "text/plain": "      Date/Time  Temp_C  Dew Point Temp_C  Rel Hum_%  Wind Speed_km/h  \\\n0         False   False             False      False            False   \n1         False   False             False      False            False   \n2         False   False             False      False            False   \n3         False   False             False      False            False   \n4         False   False             False      False            False   \n...         ...     ...               ...        ...              ...   \n8779      False   False             False      False            False   \n8780      False   False             False      False            False   \n8781      False   False             False      False            False   \n8782      False   False             False      False            False   \n8783      False   False             False      False            False   \n\n      Visibility_km  Press_kPa  Weather  \n0             False      False    False  \n1             False      False    False  \n2             False      False    False  \n3             False      False    False  \n4             False      False    False  \n...             ...        ...      ...  \n8779          False      False    False  \n8780          False      False    False  \n8781          False      False    False  \n8782          False      False    False  \n8783          False      False    False  \n\n[8784 rows x 8 columns]",
            "text/html": "<div>\n<style scoped>\n    .dataframe tbody tr th:only-of-type {\n        vertical-align: middle;\n    }\n\n    .dataframe tbody tr th {\n        vertical-align: top;\n    }\n\n    .dataframe thead th {\n        text-align: right;\n    }\n</style>\n<table border=\"1\" class=\"dataframe\">\n  <thead>\n    <tr style=\"text-align: right;\">\n      <th></th>\n      <th>Date/Time</th>\n      <th>Temp_C</th>\n      <th>Dew Point Temp_C</th>\n      <th>Rel Hum_%</th>\n      <th>Wind Speed_km/h</th>\n      <th>Visibility_km</th>\n      <th>Press_kPa</th>\n      <th>Weather</th>\n    </tr>\n  </thead>\n  <tbody>\n    <tr>\n      <th>0</th>\n      <td>False</td>\n      <td>False</td>\n      <td>False</td>\n      <td>False</td>\n      <td>False</td>\n      <td>False</td>\n      <td>False</td>\n      <td>False</td>\n    </tr>\n    <tr>\n      <th>1</th>\n      <td>False</td>\n      <td>False</td>\n      <td>False</td>\n      <td>False</td>\n      <td>False</td>\n      <td>False</td>\n      <td>False</td>\n      <td>False</td>\n    </tr>\n    <tr>\n      <th>2</th>\n      <td>False</td>\n      <td>False</td>\n      <td>False</td>\n      <td>False</td>\n      <td>False</td>\n      <td>False</td>\n      <td>False</td>\n      <td>False</td>\n    </tr>\n    <tr>\n      <th>3</th>\n      <td>False</td>\n      <td>False</td>\n      <td>False</td>\n      <td>False</td>\n      <td>False</td>\n      <td>False</td>\n      <td>False</td>\n      <td>False</td>\n    </tr>\n    <tr>\n      <th>4</th>\n      <td>False</td>\n      <td>False</td>\n      <td>False</td>\n      <td>False</td>\n      <td>False</td>\n      <td>False</td>\n      <td>False</td>\n      <td>False</td>\n    </tr>\n    <tr>\n      <th>...</th>\n      <td>...</td>\n      <td>...</td>\n      <td>...</td>\n      <td>...</td>\n      <td>...</td>\n      <td>...</td>\n      <td>...</td>\n      <td>...</td>\n    </tr>\n    <tr>\n      <th>8779</th>\n      <td>False</td>\n      <td>False</td>\n      <td>False</td>\n      <td>False</td>\n      <td>False</td>\n      <td>False</td>\n      <td>False</td>\n      <td>False</td>\n    </tr>\n    <tr>\n      <th>8780</th>\n      <td>False</td>\n      <td>False</td>\n      <td>False</td>\n      <td>False</td>\n      <td>False</td>\n      <td>False</td>\n      <td>False</td>\n      <td>False</td>\n    </tr>\n    <tr>\n      <th>8781</th>\n      <td>False</td>\n      <td>False</td>\n      <td>False</td>\n      <td>False</td>\n      <td>False</td>\n      <td>False</td>\n      <td>False</td>\n      <td>False</td>\n    </tr>\n    <tr>\n      <th>8782</th>\n      <td>False</td>\n      <td>False</td>\n      <td>False</td>\n      <td>False</td>\n      <td>False</td>\n      <td>False</td>\n      <td>False</td>\n      <td>False</td>\n    </tr>\n    <tr>\n      <th>8783</th>\n      <td>False</td>\n      <td>False</td>\n      <td>False</td>\n      <td>False</td>\n      <td>False</td>\n      <td>False</td>\n      <td>False</td>\n      <td>False</td>\n    </tr>\n  </tbody>\n</table>\n<p>8784 rows × 8 columns</p>\n</div>"
          },
          "metadata": {}
        }
      ],
      "execution_count": 39
    },
    {
      "cell_type": "code",
      "source": "data.rename(columns = {'Weather' : 'Weather Condition'})",
      "metadata": {
        "trusted": true
      },
      "outputs": [
        {
          "execution_count": 40,
          "output_type": "execute_result",
          "data": {
            "text/plain": "             Date/Time  Temp_C  Dew Point Temp_C  Rel Hum_%  Wind Speed_km/h  \\\n0        1/1/2012 0:00    -1.8              -3.9         86                4   \n1        1/1/2012 1:00    -1.8              -3.7         87                4   \n2        1/1/2012 2:00    -1.8              -3.4         89                7   \n3        1/1/2012 3:00    -1.5              -3.2         88                6   \n4        1/1/2012 4:00    -1.5              -3.3         88                7   \n...                ...     ...               ...        ...              ...   \n8779  12/31/2012 19:00     0.1              -2.7         81               30   \n8780  12/31/2012 20:00     0.2              -2.4         83               24   \n8781  12/31/2012 21:00    -0.5              -1.5         93               28   \n8782  12/31/2012 22:00    -0.2              -1.8         89               28   \n8783  12/31/2012 23:00     0.0              -2.1         86               30   \n\n      Visibility_km  Press_kPa     Weather Condition  \n0               8.0     101.24                   Fog  \n1               8.0     101.24                   Fog  \n2               4.0     101.26  Freezing Drizzle,Fog  \n3               4.0     101.27  Freezing Drizzle,Fog  \n4               4.8     101.23                   Fog  \n...             ...        ...                   ...  \n8779            9.7     100.13                  Snow  \n8780            9.7     100.03                  Snow  \n8781            4.8      99.95                  Snow  \n8782            9.7      99.91                  Snow  \n8783           11.3      99.89                  Snow  \n\n[8784 rows x 8 columns]",
            "text/html": "<div>\n<style scoped>\n    .dataframe tbody tr th:only-of-type {\n        vertical-align: middle;\n    }\n\n    .dataframe tbody tr th {\n        vertical-align: top;\n    }\n\n    .dataframe thead th {\n        text-align: right;\n    }\n</style>\n<table border=\"1\" class=\"dataframe\">\n  <thead>\n    <tr style=\"text-align: right;\">\n      <th></th>\n      <th>Date/Time</th>\n      <th>Temp_C</th>\n      <th>Dew Point Temp_C</th>\n      <th>Rel Hum_%</th>\n      <th>Wind Speed_km/h</th>\n      <th>Visibility_km</th>\n      <th>Press_kPa</th>\n      <th>Weather Condition</th>\n    </tr>\n  </thead>\n  <tbody>\n    <tr>\n      <th>0</th>\n      <td>1/1/2012 0:00</td>\n      <td>-1.8</td>\n      <td>-3.9</td>\n      <td>86</td>\n      <td>4</td>\n      <td>8.0</td>\n      <td>101.24</td>\n      <td>Fog</td>\n    </tr>\n    <tr>\n      <th>1</th>\n      <td>1/1/2012 1:00</td>\n      <td>-1.8</td>\n      <td>-3.7</td>\n      <td>87</td>\n      <td>4</td>\n      <td>8.0</td>\n      <td>101.24</td>\n      <td>Fog</td>\n    </tr>\n    <tr>\n      <th>2</th>\n      <td>1/1/2012 2:00</td>\n      <td>-1.8</td>\n      <td>-3.4</td>\n      <td>89</td>\n      <td>7</td>\n      <td>4.0</td>\n      <td>101.26</td>\n      <td>Freezing Drizzle,Fog</td>\n    </tr>\n    <tr>\n      <th>3</th>\n      <td>1/1/2012 3:00</td>\n      <td>-1.5</td>\n      <td>-3.2</td>\n      <td>88</td>\n      <td>6</td>\n      <td>4.0</td>\n      <td>101.27</td>\n      <td>Freezing Drizzle,Fog</td>\n    </tr>\n    <tr>\n      <th>4</th>\n      <td>1/1/2012 4:00</td>\n      <td>-1.5</td>\n      <td>-3.3</td>\n      <td>88</td>\n      <td>7</td>\n      <td>4.8</td>\n      <td>101.23</td>\n      <td>Fog</td>\n    </tr>\n    <tr>\n      <th>...</th>\n      <td>...</td>\n      <td>...</td>\n      <td>...</td>\n      <td>...</td>\n      <td>...</td>\n      <td>...</td>\n      <td>...</td>\n      <td>...</td>\n    </tr>\n    <tr>\n      <th>8779</th>\n      <td>12/31/2012 19:00</td>\n      <td>0.1</td>\n      <td>-2.7</td>\n      <td>81</td>\n      <td>30</td>\n      <td>9.7</td>\n      <td>100.13</td>\n      <td>Snow</td>\n    </tr>\n    <tr>\n      <th>8780</th>\n      <td>12/31/2012 20:00</td>\n      <td>0.2</td>\n      <td>-2.4</td>\n      <td>83</td>\n      <td>24</td>\n      <td>9.7</td>\n      <td>100.03</td>\n      <td>Snow</td>\n    </tr>\n    <tr>\n      <th>8781</th>\n      <td>12/31/2012 21:00</td>\n      <td>-0.5</td>\n      <td>-1.5</td>\n      <td>93</td>\n      <td>28</td>\n      <td>4.8</td>\n      <td>99.95</td>\n      <td>Snow</td>\n    </tr>\n    <tr>\n      <th>8782</th>\n      <td>12/31/2012 22:00</td>\n      <td>-0.2</td>\n      <td>-1.8</td>\n      <td>89</td>\n      <td>28</td>\n      <td>9.7</td>\n      <td>99.91</td>\n      <td>Snow</td>\n    </tr>\n    <tr>\n      <th>8783</th>\n      <td>12/31/2012 23:00</td>\n      <td>0.0</td>\n      <td>-2.1</td>\n      <td>86</td>\n      <td>30</td>\n      <td>11.3</td>\n      <td>99.89</td>\n      <td>Snow</td>\n    </tr>\n  </tbody>\n</table>\n<p>8784 rows × 8 columns</p>\n</div>"
          },
          "metadata": {}
        }
      ],
      "execution_count": 40
    },
    {
      "cell_type": "code",
      "source": "data.Visibility_km.mean()",
      "metadata": {
        "trusted": true
      },
      "outputs": [
        {
          "execution_count": 42,
          "output_type": "execute_result",
          "data": {
            "text/plain": "27.664446721311478"
          },
          "metadata": {}
        }
      ],
      "execution_count": 42
    },
    {
      "cell_type": "code",
      "source": "data[(data['",
      "metadata": {
        "trusted": true
      },
      "outputs": [],
      "execution_count": null
    }
  ]
}